{
 "cells": [
  {
   "cell_type": "code",
   "execution_count": 2,
   "id": "3af85e9d-e71c-4bfe-ad79-be390893647e",
   "metadata": {},
   "outputs": [],
   "source": [
    "import os\n",
    "openai_endpoint = os.getenv(\"OPENAI_ENDPOINT\")\n",
    "openai_apikey = os.getenv(\"OPENAI_APIKEY\")\n",
    "deployment_name = os.getenv(\"DEPLOYMENT_NAME\")"
   ]
  },
  {
   "cell_type": "code",
   "execution_count": 3,
   "id": "fa559907-daa5-490e-911a-dda06c6d5d8f",
   "metadata": {},
   "outputs": [],
   "source": [
    "from openai import AzureOpenAI"
   ]
  },
  {
   "cell_type": "code",
   "execution_count": 4,
   "id": "b358292d-eea7-4efb-9614-09f33f1ccf90",
   "metadata": {},
   "outputs": [],
   "source": [
    "client = AzureOpenAI(api_key = openai_apikey, azure_endpoint = openai_endpoint,api_version = \"2024-05-01-preview\")"
   ]
  },
  {
   "cell_type": "code",
   "execution_count": 5,
   "id": "d012b44a-5448-4c5a-9c3b-7293f4e9629d",
   "metadata": {},
   "outputs": [],
   "source": [
    "response = client.chat.completions.create(model = deployment_name,\n",
    "                               messages=[{\"role\":\"user\",\"content\":\"Hi\"}]\n",
    "                              )"
   ]
  },
  {
   "cell_type": "code",
   "execution_count": 6,
   "id": "3bddfcea-621b-4911-afc7-002eb2bd2b01",
   "metadata": {},
   "outputs": [
    {
     "data": {
      "text/plain": [
       "'Hello! How can I help you today?'"
      ]
     },
     "execution_count": 6,
     "metadata": {},
     "output_type": "execute_result"
    }
   ],
   "source": [
    "response.choices[0].message.content"
   ]
  },
  {
   "cell_type": "markdown",
   "id": "1f9ded87-12f1-46d6-a1d3-099a9bd4483a",
   "metadata": {},
   "source": [
    "code to validate if response is in required format"
   ]
  },
  {
   "cell_type": "code",
   "execution_count": 7,
   "id": "b79dc079-4564-4807-9e7e-2beb7ec8e3cf",
   "metadata": {},
   "outputs": [],
   "source": [
    "from dataclasses import dataclass\n",
    "from typing import Any, Dict\n",
    "import json\n",
    "@dataclass\n",
    "class Weather:\n",
    "    Day: str\n",
    "    Temperature_celcius: float\n",
    "    Place: str\n",
    "\n",
    "\n",
    "def validate_weather_input(data: Dict[str, Any]) -> Weather:\n",
    "    required_fields = {'Day': str, 'Temperature_celcius': float, 'Place':str}\n",
    "    for field, field_type in required_fields.items():\n",
    "        if field not in data:\n",
    "            raise ValueError(f\"Missing field: {field}\")\n",
    "        if not isinstance(data[field], field_type):\n",
    "            raise TypeError(f\"Incorrect type for field {field}: expected {field_type}, got {type(data[field])}\")\n",
    "    return Weather(**data)"
   ]
  },
  {
   "cell_type": "markdown",
   "id": "6702cf6d-332b-4f9d-aaf2-93db003f7c77",
   "metadata": {},
   "source": [
    "with no reference example, outformat fails in validation step"
   ]
  },
  {
   "cell_type": "code",
   "execution_count": 8,
   "id": "d91003ef-9e38-458e-9251-bfdf1a0532cb",
   "metadata": {},
   "outputs": [
    {
     "name": "stdout",
     "output_type": "stream",
     "text": [
      "{\n",
      "  \"Day\": \"Thursday\",\n",
      "  \"Temperature\": 1,\n",
      "  \"Place\": \"London\"\n",
      "}\n"
     ]
    },
    {
     "ename": "ValueError",
     "evalue": "Missing field: Temperature_celcius",
     "output_type": "error",
     "traceback": [
      "\u001b[1;31m---------------------------------------------------------------------------\u001b[0m",
      "\u001b[1;31mValueError\u001b[0m                                Traceback (most recent call last)",
      "Cell \u001b[1;32mIn[8], line 10\u001b[0m\n\u001b[0;32m      8\u001b[0m json_response \u001b[38;5;241m=\u001b[39m response\u001b[38;5;241m.\u001b[39mchoices[\u001b[38;5;241m0\u001b[39m]\u001b[38;5;241m.\u001b[39mmessage\u001b[38;5;241m.\u001b[39mcontent\n\u001b[0;32m      9\u001b[0m \u001b[38;5;28mprint\u001b[39m(json_response)\n\u001b[1;32m---> 10\u001b[0m \u001b[43mvalidate_weather_input\u001b[49m\u001b[43m(\u001b[49m\u001b[43mjson\u001b[49m\u001b[38;5;241;43m.\u001b[39;49m\u001b[43mloads\u001b[49m\u001b[43m(\u001b[49m\u001b[43mjson_response\u001b[49m\u001b[43m)\u001b[49m\u001b[43m)\u001b[49m\n",
      "Cell \u001b[1;32mIn[7], line 15\u001b[0m, in \u001b[0;36mvalidate_weather_input\u001b[1;34m(data)\u001b[0m\n\u001b[0;32m     13\u001b[0m \u001b[38;5;28;01mfor\u001b[39;00m field, field_type \u001b[38;5;129;01min\u001b[39;00m required_fields\u001b[38;5;241m.\u001b[39mitems():\n\u001b[0;32m     14\u001b[0m     \u001b[38;5;28;01mif\u001b[39;00m field \u001b[38;5;129;01mnot\u001b[39;00m \u001b[38;5;129;01min\u001b[39;00m data:\n\u001b[1;32m---> 15\u001b[0m         \u001b[38;5;28;01mraise\u001b[39;00m \u001b[38;5;167;01mValueError\u001b[39;00m(\u001b[38;5;124mf\u001b[39m\u001b[38;5;124m\"\u001b[39m\u001b[38;5;124mMissing field: \u001b[39m\u001b[38;5;132;01m{\u001b[39;00mfield\u001b[38;5;132;01m}\u001b[39;00m\u001b[38;5;124m\"\u001b[39m)\n\u001b[0;32m     16\u001b[0m     \u001b[38;5;28;01mif\u001b[39;00m \u001b[38;5;129;01mnot\u001b[39;00m \u001b[38;5;28misinstance\u001b[39m(data[field], field_type):\n\u001b[0;32m     17\u001b[0m         \u001b[38;5;28;01mraise\u001b[39;00m \u001b[38;5;167;01mTypeError\u001b[39;00m(\u001b[38;5;124mf\u001b[39m\u001b[38;5;124m\"\u001b[39m\u001b[38;5;124mIncorrect type for field \u001b[39m\u001b[38;5;132;01m{\u001b[39;00mfield\u001b[38;5;132;01m}\u001b[39;00m\u001b[38;5;124m: expected \u001b[39m\u001b[38;5;132;01m{\u001b[39;00mfield_type\u001b[38;5;132;01m}\u001b[39;00m\u001b[38;5;124m, got \u001b[39m\u001b[38;5;132;01m{\u001b[39;00m\u001b[38;5;28mtype\u001b[39m(data[field])\u001b[38;5;132;01m}\u001b[39;00m\u001b[38;5;124m\"\u001b[39m)\n",
      "\u001b[1;31mValueError\u001b[0m: Missing field: Temperature_celcius"
     ]
    }
   ],
   "source": [
    "prompt = \"\"\"For below given content, give Json response with Day, Temperature in celcius and Place as key-value pairs.\n",
    "CONTENT: With 1 degree celcius London witnessed coldest day of the week on Thursday.\n",
    "\"\"\"\n",
    "response = client.chat.completions.create(model = deployment_name,\n",
    "                               messages=[{\"role\": \"system\",\"content\": \"You're an helpful AI assistant\"},\n",
    "                                         {\"role\":\"user\",\"content\":prompt}]\n",
    "                              )\n",
    "json_response = response.choices[0].message.content\n",
    "print(json_response)\n",
    "validate_weather_input(json.loads(json_response))"
   ]
  },
  {
   "cell_type": "markdown",
   "id": "27673b71-1acd-4fc1-bbab-7e07d1fcc810",
   "metadata": {},
   "source": [
    "with valid output format given in instruction, it might still fail at output type"
   ]
  },
  {
   "cell_type": "code",
   "execution_count": 9,
   "id": "39205c78-a40a-40c8-b6ef-423f43e30c38",
   "metadata": {},
   "outputs": [
    {
     "name": "stdout",
     "output_type": "stream",
     "text": [
      "{\n",
      "  \"Day\": \"Thursday\",\n",
      "  \"Temperature_celcius\": 1,\n",
      "  \"Place\": \"London\"\n",
      "}\n"
     ]
    },
    {
     "ename": "TypeError",
     "evalue": "Incorrect type for field Temperature_celcius: expected <class 'float'>, got <class 'int'>",
     "output_type": "error",
     "traceback": [
      "\u001b[1;31m---------------------------------------------------------------------------\u001b[0m",
      "\u001b[1;31mTypeError\u001b[0m                                 Traceback (most recent call last)",
      "Cell \u001b[1;32mIn[9], line 16\u001b[0m\n\u001b[0;32m     14\u001b[0m json_response\u001b[38;5;241m=\u001b[39mresponse\u001b[38;5;241m.\u001b[39mchoices[\u001b[38;5;241m0\u001b[39m]\u001b[38;5;241m.\u001b[39mmessage\u001b[38;5;241m.\u001b[39mcontent\n\u001b[0;32m     15\u001b[0m \u001b[38;5;28mprint\u001b[39m(json_response)\n\u001b[1;32m---> 16\u001b[0m \u001b[43mvalidate_weather_input\u001b[49m\u001b[43m(\u001b[49m\u001b[43mjson\u001b[49m\u001b[38;5;241;43m.\u001b[39;49m\u001b[43mloads\u001b[49m\u001b[43m(\u001b[49m\u001b[43mjson_response\u001b[49m\u001b[43m)\u001b[49m\u001b[43m)\u001b[49m\n",
      "Cell \u001b[1;32mIn[7], line 17\u001b[0m, in \u001b[0;36mvalidate_weather_input\u001b[1;34m(data)\u001b[0m\n\u001b[0;32m     15\u001b[0m         \u001b[38;5;28;01mraise\u001b[39;00m \u001b[38;5;167;01mValueError\u001b[39;00m(\u001b[38;5;124mf\u001b[39m\u001b[38;5;124m\"\u001b[39m\u001b[38;5;124mMissing field: \u001b[39m\u001b[38;5;132;01m{\u001b[39;00mfield\u001b[38;5;132;01m}\u001b[39;00m\u001b[38;5;124m\"\u001b[39m)\n\u001b[0;32m     16\u001b[0m     \u001b[38;5;28;01mif\u001b[39;00m \u001b[38;5;129;01mnot\u001b[39;00m \u001b[38;5;28misinstance\u001b[39m(data[field], field_type):\n\u001b[1;32m---> 17\u001b[0m         \u001b[38;5;28;01mraise\u001b[39;00m \u001b[38;5;167;01mTypeError\u001b[39;00m(\u001b[38;5;124mf\u001b[39m\u001b[38;5;124m\"\u001b[39m\u001b[38;5;124mIncorrect type for field \u001b[39m\u001b[38;5;132;01m{\u001b[39;00mfield\u001b[38;5;132;01m}\u001b[39;00m\u001b[38;5;124m: expected \u001b[39m\u001b[38;5;132;01m{\u001b[39;00mfield_type\u001b[38;5;132;01m}\u001b[39;00m\u001b[38;5;124m, got \u001b[39m\u001b[38;5;132;01m{\u001b[39;00m\u001b[38;5;28mtype\u001b[39m(data[field])\u001b[38;5;132;01m}\u001b[39;00m\u001b[38;5;124m\"\u001b[39m)\n\u001b[0;32m     18\u001b[0m \u001b[38;5;28;01mreturn\u001b[39;00m Weather(\u001b[38;5;241m*\u001b[39m\u001b[38;5;241m*\u001b[39mdata)\n",
      "\u001b[1;31mTypeError\u001b[0m: Incorrect type for field Temperature_celcius: expected <class 'float'>, got <class 'int'>"
     ]
    }
   ],
   "source": [
    "prompt = \"\"\"For below given content, give Json response with Day, Temperature in celcius and Place as key-value pairs.\n",
    "CONTENT: With 1 degree celcius London witnessed coldest day of the week on Thursday.\n",
    "RESPONSE FORMAT:\n",
    "{\n",
    "Day : <day>,\n",
    "Temperature_celcius: <temperature>,\n",
    "Place : <place>\n",
    "}\n",
    "\"\"\"\n",
    "response = client.chat.completions.create(model = deployment_name,\n",
    "                               messages=[{\"role\": \"system\",\"content\": \"You're an helpful AI assistant\"},\n",
    "                                         {\"role\":\"user\",\"content\":prompt}]\n",
    "                              )\n",
    "json_response=response.choices[0].message.content\n",
    "print(json_response)\n",
    "validate_weather_input(json.loads(json_response))"
   ]
  },
  {
   "cell_type": "markdown",
   "id": "ecad8c0f-52c9-434f-a2a2-b0a75c1c2982",
   "metadata": {},
   "source": [
    "pydantic can be used to validate most responses, also openai in backend is integrated with pydantic for reposnse formats validations"
   ]
  },
  {
   "cell_type": "code",
   "execution_count": 10,
   "id": "8337d2cb-9b33-4ff6-bd72-b604d67e26ac",
   "metadata": {},
   "outputs": [],
   "source": [
    "!pip install -qq pydantic"
   ]
  },
  {
   "cell_type": "code",
   "execution_count": 11,
   "id": "7da8a841-4ac4-4e55-a055-0f50347eeabb",
   "metadata": {},
   "outputs": [],
   "source": [
    "from pydantic import BaseModel\n",
    "class Weather(BaseModel):\n",
    "    Day:str\n",
    "    Temperature_celcius:float\n",
    "    Place:str"
   ]
  },
  {
   "cell_type": "markdown",
   "id": "ecd9e406-76f7-4d78-8efb-6d90aac7f882",
   "metadata": {},
   "source": [
    "above case where normal output validation failed due to type check is now validated with pydantic approach"
   ]
  },
  {
   "cell_type": "code",
   "execution_count": 12,
   "id": "b1f5ca38-011f-41f4-902a-d6feb6bcc49a",
   "metadata": {},
   "outputs": [
    {
     "data": {
      "text/plain": [
       "Weather(Day='Thursday', Temperature_celcius=1.0, Place='London')"
      ]
     },
     "execution_count": 12,
     "metadata": {},
     "output_type": "execute_result"
    }
   ],
   "source": [
    "Weather.validate(json.loads(json_response))"
   ]
  },
  {
   "cell_type": "markdown",
   "id": "9c5e2ae4-47f1-4bc5-a4b8-737c85acaaec",
   "metadata": {},
   "source": [
    "one more example of normal validation"
   ]
  },
  {
   "cell_type": "code",
   "execution_count": 13,
   "id": "50844a43-8d16-4c15-953b-860c6c33027a",
   "metadata": {},
   "outputs": [
    {
     "name": "stdout",
     "output_type": "stream",
     "text": [
      "{\n",
      "  \"Day\": \"Thursday\",\n",
      "  \"Temperature_celcius\": \"-1.1\",\n",
      "  \"Place\": \"London\"\n",
      "}\n"
     ]
    },
    {
     "ename": "TypeError",
     "evalue": "Incorrect type for field Temperature_celcius: expected <class 'float'>, got <class 'str'>",
     "output_type": "error",
     "traceback": [
      "\u001b[1;31m---------------------------------------------------------------------------\u001b[0m",
      "\u001b[1;31mTypeError\u001b[0m                                 Traceback (most recent call last)",
      "Cell \u001b[1;32mIn[13], line 16\u001b[0m\n\u001b[0;32m     14\u001b[0m json_response\u001b[38;5;241m=\u001b[39mresponse\u001b[38;5;241m.\u001b[39mchoices[\u001b[38;5;241m0\u001b[39m]\u001b[38;5;241m.\u001b[39mmessage\u001b[38;5;241m.\u001b[39mcontent\n\u001b[0;32m     15\u001b[0m \u001b[38;5;28mprint\u001b[39m(json_response)\n\u001b[1;32m---> 16\u001b[0m \u001b[43mvalidate_weather_input\u001b[49m\u001b[43m(\u001b[49m\u001b[43mjson\u001b[49m\u001b[38;5;241;43m.\u001b[39;49m\u001b[43mloads\u001b[49m\u001b[43m(\u001b[49m\u001b[43mjson_response\u001b[49m\u001b[43m)\u001b[49m\u001b[43m)\u001b[49m\n",
      "Cell \u001b[1;32mIn[7], line 17\u001b[0m, in \u001b[0;36mvalidate_weather_input\u001b[1;34m(data)\u001b[0m\n\u001b[0;32m     15\u001b[0m         \u001b[38;5;28;01mraise\u001b[39;00m \u001b[38;5;167;01mValueError\u001b[39;00m(\u001b[38;5;124mf\u001b[39m\u001b[38;5;124m\"\u001b[39m\u001b[38;5;124mMissing field: \u001b[39m\u001b[38;5;132;01m{\u001b[39;00mfield\u001b[38;5;132;01m}\u001b[39;00m\u001b[38;5;124m\"\u001b[39m)\n\u001b[0;32m     16\u001b[0m     \u001b[38;5;28;01mif\u001b[39;00m \u001b[38;5;129;01mnot\u001b[39;00m \u001b[38;5;28misinstance\u001b[39m(data[field], field_type):\n\u001b[1;32m---> 17\u001b[0m         \u001b[38;5;28;01mraise\u001b[39;00m \u001b[38;5;167;01mTypeError\u001b[39;00m(\u001b[38;5;124mf\u001b[39m\u001b[38;5;124m\"\u001b[39m\u001b[38;5;124mIncorrect type for field \u001b[39m\u001b[38;5;132;01m{\u001b[39;00mfield\u001b[38;5;132;01m}\u001b[39;00m\u001b[38;5;124m: expected \u001b[39m\u001b[38;5;132;01m{\u001b[39;00mfield_type\u001b[38;5;132;01m}\u001b[39;00m\u001b[38;5;124m, got \u001b[39m\u001b[38;5;132;01m{\u001b[39;00m\u001b[38;5;28mtype\u001b[39m(data[field])\u001b[38;5;132;01m}\u001b[39;00m\u001b[38;5;124m\"\u001b[39m)\n\u001b[0;32m     18\u001b[0m \u001b[38;5;28;01mreturn\u001b[39;00m Weather(\u001b[38;5;241m*\u001b[39m\u001b[38;5;241m*\u001b[39mdata)\n",
      "\u001b[1;31mTypeError\u001b[0m: Incorrect type for field Temperature_celcius: expected <class 'float'>, got <class 'str'>"
     ]
    }
   ],
   "source": [
    "prompt = \"\"\"For below given content, give Json response with Day, Temperature in celcius and Place as key-value pairs.\n",
    "CONTENT: With 30 Fahrenheit London witnessed coldest day of the week on Thursday.\n",
    "RESPONSE FORMAT:\n",
    "{\n",
    "Day : <day>,\n",
    "Temperature_celcius: <temperature>,\n",
    "Place : <place>\n",
    "}\n",
    "\"\"\"\n",
    "response = client.chat.completions.create(model = deployment_name,\n",
    "                               messages=[{\"role\": \"system\",\"content\": \"You're an helpful AI assistant\"},\n",
    "                                         {\"role\":\"user\",\"content\":prompt}]\n",
    "                              )\n",
    "json_response=response.choices[0].message.content\n",
    "print(json_response)\n",
    "validate_weather_input(json.loads(json_response))"
   ]
  },
  {
   "cell_type": "markdown",
   "id": "80b9d66e-458b-45c9-aa35-39887570ffac",
   "metadata": {},
   "source": [
    "validation with pydantic approach"
   ]
  },
  {
   "cell_type": "code",
   "execution_count": 14,
   "id": "39aeb2ff-c2c4-49e0-9f2f-5d5efe37f7c4",
   "metadata": {},
   "outputs": [
    {
     "data": {
      "text/plain": [
       "Weather(Day='Thursday', Temperature_celcius=-1.1, Place='London')"
      ]
     },
     "execution_count": 14,
     "metadata": {},
     "output_type": "execute_result"
    }
   ],
   "source": [
    "Weather.validate(json.loads(json_response))"
   ]
  },
  {
   "cell_type": "markdown",
   "id": "ee616393-febe-40b7-93d9-5c8003988232",
   "metadata": {},
   "source": [
    "# Function calling for given input is one of the feature ffrom OpenAI, through which cases where arguments needs to be created to call function analysing given input can be acheived\n"
   ]
  },
  {
   "cell_type": "markdown",
   "id": "41df40f6-b753-4cc8-ad5b-f000a76453a4",
   "metadata": {},
   "source": [
    "well defined simple function weather_status with parameters day,temeprature and place"
   ]
  },
  {
   "cell_type": "code",
   "execution_count": 15,
   "id": "da0426bb-12ee-4203-b63e-8a8e832d50d3",
   "metadata": {},
   "outputs": [],
   "source": [
    "def weather_status(day:str,temperature:float,place:str):\n",
    "    \"\"\"\n",
    "    gives weather details of given place for given day\n",
    "\n",
    "    Parameters:\n",
    "    day(str) : day of the week\n",
    "    temperature(float): temperature in celcius\n",
    "    place(str): place name for given weather details\n",
    "\n",
    "    Returns:\n",
    "    dict: a dictionary with weather details\n",
    "    \"\"\"\n",
    "    weather_details = {\n",
    "        \"day\":day,\n",
    "        \"temperature\":temperature,\n",
    "        \"place\":place\n",
    "    }\n",
    "    return weather_details\n",
    "    "
   ]
  },
  {
   "cell_type": "markdown",
   "id": "a9fe655d-9f33-4c9b-bbd5-907ec6ca7807",
   "metadata": {},
   "source": [
    "well defined simple function weather_alert with parameters day,temeprature, place and supervisor"
   ]
  },
  {
   "cell_type": "code",
   "execution_count": 16,
   "id": "4a1e3fdf-cfc4-45ea-a39c-82b277aac06b",
   "metadata": {},
   "outputs": [],
   "source": [
    "def weather_alert(day:str,temperature:float,place:str,supervisor:str):\n",
    "    \"\"\"\n",
    "    gives weather details to create alret to supervisor of given place for given day\n",
    "\n",
    "    Parameters:\n",
    "    day(str) : day of the week\n",
    "    temperature(float): temperature in celcius\n",
    "    place(str): place name for given weather details\n",
    "    supervisor(str): supervisor name for given place\n",
    "\n",
    "    Returns:\n",
    "    dict: a dictionary with weather details along with supervisor name\n",
    "    \"\"\"\n",
    "    weather_details = {\n",
    "        \"day\":day,\n",
    "        \"temperature\":temperature,\n",
    "        \"place\":place,\n",
    "        \"supervisor\":supervisor\n",
    "    }\n",
    "    return weather_details"
   ]
  },
  {
   "cell_type": "markdown",
   "id": "30ecb126-4f8e-47b4-a36f-676059175a69",
   "metadata": {},
   "source": [
    "creating detailed schema of functions to be called"
   ]
  },
  {
   "cell_type": "code",
   "execution_count": 17,
   "id": "530ae86b-4ad9-4938-89f5-346307a55247",
   "metadata": {},
   "outputs": [],
   "source": [
    "weather_status_function_details = {\n",
    "        \"type\":\"function\",\n",
    "        \"function\":{\n",
    "        \"name\": \"weather_status\",  # Function Name\n",
    "        \"description\": \"gives weather details of given place for given day\",  # Meta information of function; be as detailed as possible\n",
    "        \"parameters\": {  # in json schema\n",
    "            \"type\": \"object\",\n",
    "            \"properties\": {\n",
    "                \"day\": {\n",
    "                    \"type\": \"string\",\n",
    "                    \"description\": \"day of the week\",\n",
    "                },\n",
    "                \"temperature\": {\n",
    "                    \"type\": \"number\",\n",
    "                    \"description\": \"temperature in celcius\",\n",
    "                },\n",
    "                \"place\": {\n",
    "                    \"type\": \"string\",\n",
    "                    \"description\": \"place name for given weather details\",\n",
    "                },\n",
    "            },\n",
    "            \"required\": [\"day\", \"temperature\", \"place\"],\n",
    "        },\n",
    "        }\n",
    "    }"
   ]
  },
  {
   "cell_type": "code",
   "execution_count": 18,
   "id": "30dce6fc-6631-4234-8667-0ed3ddeaea07",
   "metadata": {},
   "outputs": [],
   "source": [
    "weather_alert_function_details = {\n",
    "        \"type\":\"function\",\n",
    "        \"function\":{\n",
    "        \"name\": \"weather_alert\",\n",
    "        \"description\": \"gives weather details to create alret to supervisor of given place for given day\",\n",
    "        \"parameters\": {\n",
    "            \"type\": \"object\",\n",
    "            \"properties\": {\n",
    "                \"day\": {\n",
    "                    \"type\": \"string\",\n",
    "                    \"description\": \"day of the week\",\n",
    "                },\n",
    "                \"temperature\": {\n",
    "                    \"type\": \"number\",\n",
    "                    \"description\": \"temperature in celcius\",\n",
    "                },\n",
    "                \"place\": {\n",
    "                    \"type\": \"string\",\n",
    "                    \"description\": \"place name for given weather details\",\n",
    "                },\n",
    "                \"supervisor\": {\n",
    "                    \"type\": \"string\",\n",
    "                    \"description\": \"supervisor name for given place\"\n",
    "                }\n",
    "            },\n",
    "            \"required\": [\"day\", \"temperature\", \"place\",\"supervisor\"],\n",
    "        },\n",
    "        }\n",
    "    }"
   ]
  },
  {
   "cell_type": "code",
   "execution_count": 19,
   "id": "2d68082c-b4d7-4bb0-95c6-f7c68f4876d4",
   "metadata": {},
   "outputs": [],
   "source": [
    "function_list = [weather_status_function_details,weather_alert_function_details]\n"
   ]
  },
  {
   "cell_type": "markdown",
   "id": "2a8cd8fa-ae08-4d39-a748-530cb8d00160",
   "metadata": {},
   "source": [
    "functions parameter is now depreacted and tools should be used instead"
   ]
  },
  {
   "cell_type": "code",
   "execution_count": 20,
   "id": "afa697e3-de12-46c5-9c06-7d378c1147e2",
   "metadata": {},
   "outputs": [],
   "source": [
    "response = client.chat.completions.create(model = deployment_name,\n",
    "                               messages=[{\"role\": \"system\",\"content\": \"You're an helpful AI assistant\"},\n",
    "                                         {\"role\":\"user\",\"content\":\"People are so afraid of the current situation in Delhi and are vacating city, as it's reported with 270 kelvin unit temperature on Monday, the least in this year\"}],\n",
    "                               tools = function_list,\n",
    "                              )"
   ]
  },
  {
   "cell_type": "markdown",
   "id": "6317bea6-a92c-4023-a049-edbdf722c50e",
   "metadata": {},
   "source": [
    "since given prompt covers case of function calling, no message response"
   ]
  },
  {
   "cell_type": "code",
   "execution_count": 21,
   "id": "869d287f-dfcd-43b7-9b56-4d4c28aa0e43",
   "metadata": {},
   "outputs": [
    {
     "name": "stdout",
     "output_type": "stream",
     "text": [
      "None\n"
     ]
    }
   ],
   "source": [
    "print(response.choices[0].message.content)"
   ]
  },
  {
   "cell_type": "markdown",
   "id": "1ed90201-59cc-4aac-a1cb-58da09ce5206",
   "metadata": {},
   "source": [
    "with given instruction function weather_status needs to be invoked, so below outputs"
   ]
  },
  {
   "cell_type": "code",
   "execution_count": 22,
   "id": "379defdb-3e87-4c04-b588-f51d9dbfcac4",
   "metadata": {},
   "outputs": [
    {
     "data": {
      "text/plain": [
       "'{\"day\":\"Monday\",\"temperature\":270,\"place\":\"Delhi\"}'"
      ]
     },
     "execution_count": 22,
     "metadata": {},
     "output_type": "execute_result"
    }
   ],
   "source": [
    "response.choices[0].message.tool_calls[0].function.arguments"
   ]
  },
  {
   "cell_type": "code",
   "execution_count": 23,
   "id": "f37e20f3-c9d7-4ef8-81dd-fdb0c0b1c090",
   "metadata": {},
   "outputs": [
    {
     "data": {
      "text/plain": [
       "'weather_status'"
      ]
     },
     "execution_count": 23,
     "metadata": {},
     "output_type": "execute_result"
    }
   ],
   "source": [
    "response.choices[0].message.tool_calls[0].function.name"
   ]
  },
  {
   "cell_type": "code",
   "execution_count": 24,
   "id": "dd249c46-8357-4521-810a-b766de00a7fc",
   "metadata": {},
   "outputs": [],
   "source": [
    "response = client.chat.completions.create(model = deployment_name,\n",
    "                               messages=[{\"role\": \"system\",\"content\": \"You're an helpful AI assistant\"},\n",
    "                                         {\"role\":\"user\",\"content\":\"People are so afraid of the current situation in Delhi and are vacating city, as it's reported with 270 kelvin unit temperature on Monday. A weather is needed to Ganesh the location supervisor.\"}],\n",
    "                               tools = function_list,\n",
    "                              )"
   ]
  },
  {
   "cell_type": "markdown",
   "id": "39150e54-decf-4b1c-9139-f7461c1c892e",
   "metadata": {},
   "source": [
    "with given instruction function weather_alert needs to be invoked, so below outputs"
   ]
  },
  {
   "cell_type": "code",
   "execution_count": 25,
   "id": "176c4ecf-200f-4d46-8e21-36ffbafb6fd0",
   "metadata": {},
   "outputs": [
    {
     "data": {
      "text/plain": [
       "'{\"day\":\"Monday\",\"temperature\":270,\"place\":\"Delhi\",\"supervisor\":\"Ganesh\"}'"
      ]
     },
     "execution_count": 25,
     "metadata": {},
     "output_type": "execute_result"
    }
   ],
   "source": [
    "response.choices[0].message.tool_calls[0].function.arguments"
   ]
  },
  {
   "cell_type": "code",
   "execution_count": 26,
   "id": "35d25073-3358-43f5-92de-9e3f7f7eaf19",
   "metadata": {},
   "outputs": [
    {
     "data": {
      "text/plain": [
       "'weather_alert'"
      ]
     },
     "execution_count": 26,
     "metadata": {},
     "output_type": "execute_result"
    }
   ],
   "source": [
    "response.choices[0].message.tool_calls[0].function.name"
   ]
  },
  {
   "cell_type": "markdown",
   "id": "75d30895-2787-4f07-9ceb-69ff2e91477d",
   "metadata": {},
   "source": [
    "pydantic can be used to create schema of class object, whose response can be adjusted as per requirement of function calling schema, to avoid writing schema as repeated tasks"
   ]
  },
  {
   "cell_type": "code",
   "execution_count": 27,
   "id": "0d6602d8-79a3-444e-98d6-b453a61883d8",
   "metadata": {},
   "outputs": [],
   "source": [
    "from pydantic import BaseModel,Field"
   ]
  },
  {
   "cell_type": "code",
   "execution_count": 28,
   "id": "f6b40c11-2d0b-44f9-92e7-a453f6d80d0d",
   "metadata": {},
   "outputs": [],
   "source": [
    "class Weather_details(BaseModel):\n",
    "    \"this is to get weather details of given place for given day\"\n",
    "    day:str = Field(description = \"day of the week\")\n",
    "    temperature:float = Field(description = \"temperature in celcius\")\n",
    "    place:str = Field(description = \"place name for given weather details\")"
   ]
  },
  {
   "cell_type": "code",
   "execution_count": 29,
   "id": "fe029c11-a022-488d-8f1e-c32edf1bc610",
   "metadata": {},
   "outputs": [
    {
     "data": {
      "text/plain": [
       "{'description': 'this is to get weather details of given place for given day',\n",
       " 'properties': {'day': {'description': 'day of the week',\n",
       "   'title': 'Day',\n",
       "   'type': 'string'},\n",
       "  'temperature': {'description': 'temperature in celcius',\n",
       "   'title': 'Temperature',\n",
       "   'type': 'number'},\n",
       "  'place': {'description': 'place name for given weather details',\n",
       "   'title': 'Place',\n",
       "   'type': 'string'}},\n",
       " 'required': ['day', 'temperature', 'place'],\n",
       " 'title': 'Weather_details',\n",
       " 'type': 'object'}"
      ]
     },
     "execution_count": 29,
     "metadata": {},
     "output_type": "execute_result"
    }
   ],
   "source": [
    " Weather_details.model_json_schema()"
   ]
  },
  {
   "cell_type": "code",
   "execution_count": null,
   "id": "12510374-5462-4846-8537-7b56c08c8977",
   "metadata": {},
   "outputs": [],
   "source": []
  },
  {
   "cell_type": "code",
   "execution_count": null,
   "id": "dc6865f6-a805-4d9d-82e6-a045db6dff2a",
   "metadata": {},
   "outputs": [],
   "source": []
  },
  {
   "cell_type": "code",
   "execution_count": null,
   "id": "03de65c0-6a75-405d-9069-889274372267",
   "metadata": {},
   "outputs": [],
   "source": []
  },
  {
   "cell_type": "code",
   "execution_count": 1,
   "id": "83136756-a03b-4124-82a6-401e74f99438",
   "metadata": {},
   "outputs": [],
   "source": []
  },
  {
   "cell_type": "code",
   "execution_count": 1,
   "id": "d9b986bf-02de-4954-93aa-c791649b5ae0",
   "metadata": {},
   "outputs": [],
   "source": []
  },
  {
   "cell_type": "code",
   "execution_count": null,
   "id": "cd72d79f-d5a4-41d2-a87e-679f5bde7e5f",
   "metadata": {},
   "outputs": [],
   "source": []
  }
 ],
 "metadata": {
  "kernelspec": {
   "display_name": "Python 3 (ipykernel)",
   "language": "python",
   "name": "python3"
  },
  "language_info": {
   "codemirror_mode": {
    "name": "ipython",
    "version": 3
   },
   "file_extension": ".py",
   "mimetype": "text/x-python",
   "name": "python",
   "nbconvert_exporter": "python",
   "pygments_lexer": "ipython3",
   "version": "3.9.12"
  }
 },
 "nbformat": 4,
 "nbformat_minor": 5
}
